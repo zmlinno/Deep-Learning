{
 "cells": [
  {
   "cell_type": "code",
   "execution_count": 4,
   "id": "7f3c0a84",
   "metadata": {
    "ExecuteTime": {
     "end_time": "2022-11-21T12:30:24.377649Z",
     "start_time": "2022-11-21T12:30:22.816826Z"
    }
   },
   "outputs": [],
   "source": [
    "import numpy as np\n",
    "import pandas as pd\n",
    "import matplotlib.pyplot as plt\n",
    "import torch"
   ]
  },
  {
   "cell_type": "code",
   "execution_count": 5,
   "id": "08264897",
   "metadata": {
    "ExecuteTime": {
     "end_time": "2022-11-21T12:30:38.167753Z",
     "start_time": "2022-11-21T12:30:38.125865Z"
    }
   },
   "outputs": [],
   "source": [
    "income = pd.read_csv('./dataset/Income1.csv')"
   ]
  },
  {
   "cell_type": "code",
   "execution_count": 6,
   "id": "80da5976",
   "metadata": {
    "ExecuteTime": {
     "end_time": "2022-11-21T12:30:40.745859Z",
     "start_time": "2022-11-21T12:30:40.701973Z"
    }
   },
   "outputs": [
    {
     "data": {
      "text/html": [
       "<div>\n",
       "<style scoped>\n",
       "    .dataframe tbody tr th:only-of-type {\n",
       "        vertical-align: middle;\n",
       "    }\n",
       "\n",
       "    .dataframe tbody tr th {\n",
       "        vertical-align: top;\n",
       "    }\n",
       "\n",
       "    .dataframe thead th {\n",
       "        text-align: right;\n",
       "    }\n",
       "</style>\n",
       "<table border=\"1\" class=\"dataframe\">\n",
       "  <thead>\n",
       "    <tr style=\"text-align: right;\">\n",
       "      <th></th>\n",
       "      <th>Unnamed: 0</th>\n",
       "      <th>Education</th>\n",
       "      <th>Income</th>\n",
       "    </tr>\n",
       "  </thead>\n",
       "  <tbody>\n",
       "    <tr>\n",
       "      <th>0</th>\n",
       "      <td>1</td>\n",
       "      <td>10.000000</td>\n",
       "      <td>26.658839</td>\n",
       "    </tr>\n",
       "    <tr>\n",
       "      <th>1</th>\n",
       "      <td>2</td>\n",
       "      <td>10.401338</td>\n",
       "      <td>27.306435</td>\n",
       "    </tr>\n",
       "    <tr>\n",
       "      <th>2</th>\n",
       "      <td>3</td>\n",
       "      <td>10.842809</td>\n",
       "      <td>22.132410</td>\n",
       "    </tr>\n",
       "    <tr>\n",
       "      <th>3</th>\n",
       "      <td>4</td>\n",
       "      <td>11.244147</td>\n",
       "      <td>21.169841</td>\n",
       "    </tr>\n",
       "    <tr>\n",
       "      <th>4</th>\n",
       "      <td>5</td>\n",
       "      <td>11.645485</td>\n",
       "      <td>15.192634</td>\n",
       "    </tr>\n",
       "    <tr>\n",
       "      <th>5</th>\n",
       "      <td>6</td>\n",
       "      <td>12.086957</td>\n",
       "      <td>26.398951</td>\n",
       "    </tr>\n",
       "    <tr>\n",
       "      <th>6</th>\n",
       "      <td>7</td>\n",
       "      <td>12.488294</td>\n",
       "      <td>17.435307</td>\n",
       "    </tr>\n",
       "    <tr>\n",
       "      <th>7</th>\n",
       "      <td>8</td>\n",
       "      <td>12.889632</td>\n",
       "      <td>25.507885</td>\n",
       "    </tr>\n",
       "    <tr>\n",
       "      <th>8</th>\n",
       "      <td>9</td>\n",
       "      <td>13.290970</td>\n",
       "      <td>36.884595</td>\n",
       "    </tr>\n",
       "    <tr>\n",
       "      <th>9</th>\n",
       "      <td>10</td>\n",
       "      <td>13.732441</td>\n",
       "      <td>39.666109</td>\n",
       "    </tr>\n",
       "    <tr>\n",
       "      <th>10</th>\n",
       "      <td>11</td>\n",
       "      <td>14.133779</td>\n",
       "      <td>34.396281</td>\n",
       "    </tr>\n",
       "    <tr>\n",
       "      <th>11</th>\n",
       "      <td>12</td>\n",
       "      <td>14.535117</td>\n",
       "      <td>41.497994</td>\n",
       "    </tr>\n",
       "    <tr>\n",
       "      <th>12</th>\n",
       "      <td>13</td>\n",
       "      <td>14.976589</td>\n",
       "      <td>44.981575</td>\n",
       "    </tr>\n",
       "    <tr>\n",
       "      <th>13</th>\n",
       "      <td>14</td>\n",
       "      <td>15.377926</td>\n",
       "      <td>47.039595</td>\n",
       "    </tr>\n",
       "    <tr>\n",
       "      <th>14</th>\n",
       "      <td>15</td>\n",
       "      <td>15.779264</td>\n",
       "      <td>48.252578</td>\n",
       "    </tr>\n",
       "    <tr>\n",
       "      <th>15</th>\n",
       "      <td>16</td>\n",
       "      <td>16.220736</td>\n",
       "      <td>57.034251</td>\n",
       "    </tr>\n",
       "    <tr>\n",
       "      <th>16</th>\n",
       "      <td>17</td>\n",
       "      <td>16.622074</td>\n",
       "      <td>51.490919</td>\n",
       "    </tr>\n",
       "    <tr>\n",
       "      <th>17</th>\n",
       "      <td>18</td>\n",
       "      <td>17.023411</td>\n",
       "      <td>61.336621</td>\n",
       "    </tr>\n",
       "    <tr>\n",
       "      <th>18</th>\n",
       "      <td>19</td>\n",
       "      <td>17.464883</td>\n",
       "      <td>57.581988</td>\n",
       "    </tr>\n",
       "    <tr>\n",
       "      <th>19</th>\n",
       "      <td>20</td>\n",
       "      <td>17.866221</td>\n",
       "      <td>68.553714</td>\n",
       "    </tr>\n",
       "    <tr>\n",
       "      <th>20</th>\n",
       "      <td>21</td>\n",
       "      <td>18.267559</td>\n",
       "      <td>64.310925</td>\n",
       "    </tr>\n",
       "    <tr>\n",
       "      <th>21</th>\n",
       "      <td>22</td>\n",
       "      <td>18.709030</td>\n",
       "      <td>68.959009</td>\n",
       "    </tr>\n",
       "    <tr>\n",
       "      <th>22</th>\n",
       "      <td>23</td>\n",
       "      <td>19.110368</td>\n",
       "      <td>74.614639</td>\n",
       "    </tr>\n",
       "    <tr>\n",
       "      <th>23</th>\n",
       "      <td>24</td>\n",
       "      <td>19.511706</td>\n",
       "      <td>71.867195</td>\n",
       "    </tr>\n",
       "    <tr>\n",
       "      <th>24</th>\n",
       "      <td>25</td>\n",
       "      <td>19.913043</td>\n",
       "      <td>76.098135</td>\n",
       "    </tr>\n",
       "    <tr>\n",
       "      <th>25</th>\n",
       "      <td>26</td>\n",
       "      <td>20.354515</td>\n",
       "      <td>75.775218</td>\n",
       "    </tr>\n",
       "    <tr>\n",
       "      <th>26</th>\n",
       "      <td>27</td>\n",
       "      <td>20.755853</td>\n",
       "      <td>72.486055</td>\n",
       "    </tr>\n",
       "    <tr>\n",
       "      <th>27</th>\n",
       "      <td>28</td>\n",
       "      <td>21.157191</td>\n",
       "      <td>77.355021</td>\n",
       "    </tr>\n",
       "    <tr>\n",
       "      <th>28</th>\n",
       "      <td>29</td>\n",
       "      <td>21.598662</td>\n",
       "      <td>72.118790</td>\n",
       "    </tr>\n",
       "    <tr>\n",
       "      <th>29</th>\n",
       "      <td>30</td>\n",
       "      <td>22.000000</td>\n",
       "      <td>80.260571</td>\n",
       "    </tr>\n",
       "  </tbody>\n",
       "</table>\n",
       "</div>"
      ],
      "text/plain": [
       "    Unnamed: 0  Education     Income\n",
       "0            1  10.000000  26.658839\n",
       "1            2  10.401338  27.306435\n",
       "2            3  10.842809  22.132410\n",
       "3            4  11.244147  21.169841\n",
       "4            5  11.645485  15.192634\n",
       "5            6  12.086957  26.398951\n",
       "6            7  12.488294  17.435307\n",
       "7            8  12.889632  25.507885\n",
       "8            9  13.290970  36.884595\n",
       "9           10  13.732441  39.666109\n",
       "10          11  14.133779  34.396281\n",
       "11          12  14.535117  41.497994\n",
       "12          13  14.976589  44.981575\n",
       "13          14  15.377926  47.039595\n",
       "14          15  15.779264  48.252578\n",
       "15          16  16.220736  57.034251\n",
       "16          17  16.622074  51.490919\n",
       "17          18  17.023411  61.336621\n",
       "18          19  17.464883  57.581988\n",
       "19          20  17.866221  68.553714\n",
       "20          21  18.267559  64.310925\n",
       "21          22  18.709030  68.959009\n",
       "22          23  19.110368  74.614639\n",
       "23          24  19.511706  71.867195\n",
       "24          25  19.913043  76.098135\n",
       "25          26  20.354515  75.775218\n",
       "26          27  20.755853  72.486055\n",
       "27          28  21.157191  77.355021\n",
       "28          29  21.598662  72.118790\n",
       "29          30  22.000000  80.260571"
      ]
     },
     "execution_count": 6,
     "metadata": {},
     "output_type": "execute_result"
    }
   ],
   "source": [
    "income"
   ]
  },
  {
   "cell_type": "code",
   "execution_count": 7,
   "id": "f8f77550",
   "metadata": {
    "ExecuteTime": {
     "end_time": "2022-11-21T12:32:05.580872Z",
     "start_time": "2022-11-21T12:32:05.374425Z"
    },
    "scrolled": true
   },
   "outputs": [
    {
     "data": {
      "text/plain": [
       "Text(0, 0.5, 'Income')"
      ]
     },
     "execution_count": 7,
     "metadata": {},
     "output_type": "execute_result"
    },
    {
     "data": {
      "image/png": "[encoded data removed]",
      "text/plain": [
       "<Figure size 640x480 with 1 Axes>"
      ]
     },
     "metadata": {},
     "output_type": "display_data"
    }
   ],
   "source": [
    "# 관계가 선형인지 확인해 봅시다.\n",
    "plt.scatter(income.Education, income.Income)\n",
    "plt.xlabel('Education')\n",
    "plt.ylabel('Income')"
   ]
  },
  {
   "cell_type": "code",
   "execution_count": 8,
   "id": "97418ffe",
   "metadata": {},
   "outputs": [],
   "source": [
    "# 첫 번째 단계: 예측 함수 y = wx + b 정의b\n",
    "# 두 번째 단계: 첫 번째 손실 함수 1/2 * (y_true - y_pred)** 2\n",
    "# 세 번째 단계: 경사 하강법을 사용하여 매개변수 업데이트"
   ]
  },
  {
   "cell_type": "code",
   "execution_count": 9,
   "id": "1f9c5f1f",
   "metadata": {
    "ExecuteTime": {
     "end_time": "2022-11-21T13:02:27.565035Z",
     "start_time": "2022-11-21T13:02:27.554065Z"
    }
   },
   "outputs": [],
   "source": [
    "# 여기서 w를 0.02로 곱할 수 없습니다. 왜냐하면 PyTorch에서는 비단말 노드(non-leaf node)에서 자동 미분이 되지 않기 때문입니다.\n",
    "w = torch.randn(1, requires_grad=True)\n",
    "b = torch.zeros(1, requires_grad=True)"
   ]
  },
  {
   "cell_type": "code",
   "execution_count": 10,
   "id": "473f0655",
   "metadata": {
    "ExecuteTime": {
     "end_time": "2022-11-21T13:02:29.798061Z",
     "start_time": "2022-11-21T13:02:29.786093Z"
    }
   },
   "outputs": [
    {
     "data": {
      "text/plain": [
       "tensor([0.2213], requires_grad=True)"
      ]
     },
     "execution_count": 10,
     "metadata": {},
     "output_type": "execute_result"
    }
   ],
   "source": [
    "w"
   ]
  },
  {
   "cell_type": "code",
   "execution_count": 11,
   "id": "0cd309be",
   "metadata": {
    "ExecuteTime": {
     "end_time": "2022-11-21T12:37:45.932740Z",
     "start_time": "2022-11-21T12:37:45.919775Z"
    }
   },
   "outputs": [
    {
     "data": {
      "text/plain": [
       "torch.float32"
      ]
     },
     "execution_count": 11,
     "metadata": {},
     "output_type": "execute_result"
    }
   ],
   "source": [
    "w.dtype"
   ]
  },
  {
   "cell_type": "code",
   "execution_count": 12,
   "id": "90316dbc",
   "metadata": {
    "ExecuteTime": {
     "end_time": "2022-11-21T12:37:56.137437Z",
     "start_time": "2022-11-21T12:37:56.132450Z"
    },
    "scrolled": true
   },
   "outputs": [
    {
     "data": {
      "text/plain": [
       "torch.float32"
      ]
     },
     "execution_count": 12,
     "metadata": {},
     "output_type": "execute_result"
    }
   ],
   "source": [
    "b.dtype"
   ]
  },
  {
   "cell_type": "code",
   "execution_count": 13,
   "id": "ca4cc928",
   "metadata": {},
   "outputs": [],
   "source": [
    "# ndarray로부터 빠르게 텐서를 생성하려면 torch.from_numpy(ndarray)를 사용하세요."
   ]
  },
  {
   "cell_type": "code",
   "execution_count": 14,
   "id": "372d96a9",
   "metadata": {
    "ExecuteTime": {
     "end_time": "2022-11-21T12:40:35.873052Z",
     "start_time": "2022-11-21T12:40:35.820193Z"
    }
   },
   "outputs": [],
   "source": [
    "# 학습 요구 사항은 반드시 2차원이어야 합니다.\n",
    "X = torch.from_numpy(income.Education.values.reshape(-1, 1)).type(torch.FloatTensor)"
   ]
  },
  {
   "cell_type": "code",
   "execution_count": 15,
   "id": "73c2b4e6",
   "metadata": {
    "ExecuteTime": {
     "end_time": "2022-11-21T12:41:33.771141Z",
     "start_time": "2022-11-21T12:41:33.757178Z"
    }
   },
   "outputs": [],
   "source": [
    "Y = torch.from_numpy(income.Income.values).type(torch.FloatTensor)"
   ]
  },
  {
   "cell_type": "code",
   "execution_count": 16,
   "id": "0f807a56",
   "metadata": {
    "ExecuteTime": {
     "end_time": "2022-11-21T12:40:40.377001Z",
     "start_time": "2022-11-21T12:40:40.364035Z"
    }
   },
   "outputs": [
    {
     "data": {
      "text/plain": [
       "torch.float32"
      ]
     },
     "execution_count": 16,
     "metadata": {},
     "output_type": "execute_result"
    }
   ],
   "source": [
    "X.dtype"
   ]
  },
  {
   "cell_type": "code",
   "execution_count": 17,
   "id": "e17cc8c9",
   "metadata": {
    "ExecuteTime": {
     "end_time": "2022-11-21T12:42:40.522542Z",
     "start_time": "2022-11-21T12:42:40.516558Z"
    }
   },
   "outputs": [
    {
     "data": {
      "text/plain": [
       "torch.Size([30, 1])"
      ]
     },
     "execution_count": 17,
     "metadata": {},
     "output_type": "execute_result"
    }
   ],
   "source": [
    "X.shape"
   ]
  },
  {
   "cell_type": "code",
   "execution_count": 18,
   "id": "05946a23",
   "metadata": {},
   "outputs": [],
   "source": [
    "import torch"
   ]
  },
  {
   "cell_type": "code",
   "execution_count": 19,
   "id": "5d0f93f2",
   "metadata": {},
   "outputs": [],
   "source": [
    "input_tensor = torch.randn(3,4)  # 예시 입력 텐서\n",
    "other_tensor = torch.randn(4,5) "
   ]
  },
  {
   "cell_type": "code",
   "execution_count": 20,
   "id": "ce8cf94f",
   "metadata": {},
   "outputs": [
    {
     "data": {
      "text/plain": [
       "tensor([[-1.8770,  1.5466, -2.0160,  1.1754,  1.9697],\n",
       "        [-3.7081,  3.1529, -1.9446,  2.2334, -0.0972],\n",
       "        [-1.2161,  1.4610, -1.2296, -0.6149, -0.7763]])"
      ]
     },
     "execution_count": 20,
     "metadata": {},
     "output_type": "execute_result"
    }
   ],
   "source": [
    "torch.matmul(input_tensor, other_tensor)"
   ]
  },
  {
   "cell_type": "code",
   "execution_count": 21,
   "id": "f71a940c",
   "metadata": {
    "ExecuteTime": {
     "end_time": "2022-11-21T13:02:36.548005Z",
     "start_time": "2022-11-21T13:02:36.530049Z"
    }
   },
   "outputs": [],
   "source": [
    "learning_rate = 0.0001"
   ]
  },
  {
   "cell_type": "code",
   "execution_count": 22,
   "id": "2953ca25",
   "metadata": {
    "ExecuteTime": {
     "end_time": "2022-11-21T13:05:35.047917Z",
     "start_time": "2022-11-21T13:04:49.258429Z"
    },
    "collapsed": true
   },
   "outputs": [
    {
     "name": "stdout",
     "output_type": "stream",
     "text": [
      "tensor([2.8256]) tensor([0.1599]) tensor(151.3437)\n",
      "tensor([3.4841]) tensor([-0.8505]) tensor(109.7954)\n",
      "tensor([3.5394]) tensor([-1.8712]) tensor(105.5590)\n",
      "tensor([3.5931]) tensor([-2.8636]) tensor(101.5509)\n",
      "tensor([3.6454]) tensor([-3.8284]) tensor(97.7587)\n",
      "tensor([3.6962]) tensor([-4.7665]) tensor(94.1706)\n",
      "tensor([3.7456]) tensor([-5.6785]) tensor(90.7756)\n",
      "tensor([3.7936]) tensor([-6.5653]) tensor(87.5633)\n",
      "tensor([3.8403]) tensor([-7.4274]) tensor(84.5238)\n",
      "tensor([3.8857]) tensor([-8.2656]) tensor(81.6475)\n",
      "tensor([3.9299]) tensor([-9.0805]) tensor(78.9258)\n",
      "tensor([3.9728]) tensor([-9.8729]) tensor(76.3501)\n",
      "tensor([4.0145]) tensor([-10.6432]) tensor(73.9126)\n",
      "tensor([4.0551]) tensor([-11.3922]) tensor(71.6059)\n",
      "tensor([4.0945]) tensor([-12.1204]) tensor(69.4227)\n",
      "tensor([4.1328]) tensor([-12.8284]) tensor(67.3565)\n",
      "tensor([4.1701]) tensor([-13.5168]) tensor(65.4008)\n",
      "tensor([4.2064]) tensor([-14.1860]) tensor(63.5500)\n",
      "tensor([4.2416]) tensor([-14.8367]) tensor(61.7980)\n",
      "tensor([4.2759]) tensor([-15.4693]) tensor(60.1396)\n",
      "tensor([4.3092]) tensor([-16.0844]) tensor(58.5698)\n",
      "tensor([4.3416]) tensor([-16.6825]) tensor(57.0837)\n",
      "tensor([4.3731]) tensor([-17.2639]) tensor(55.6769)\n",
      "tensor([4.4037]) tensor([-17.8291]) tensor(54.3451)\n",
      "tensor([4.4335]) tensor([-18.3788]) tensor(53.0842)\n",
      "tensor([4.4624]) tensor([-18.9131]) tensor(51.8903)\n",
      "tensor([4.4905]) tensor([-19.4326]) tensor(50.7601)\n",
      "tensor([4.5179]) tensor([-19.9378]) tensor(49.6898)\n",
      "tensor([4.5445]) tensor([-20.4289]) tensor(48.6762)\n",
      "tensor([4.5703]) tensor([-20.9063]) tensor(47.7165)\n",
      "tensor([4.5955]) tensor([-21.3706]) tensor(46.8076)\n",
      "tensor([4.6199]) tensor([-21.8219]) tensor(45.9470)\n",
      "tensor([4.6437]) tensor([-22.2608]) tensor(45.1317)\n",
      "tensor([4.6668]) tensor([-22.6874]) tensor(44.3596)\n",
      "tensor([4.6893]) tensor([-23.1022]) tensor(43.6283)\n",
      "tensor([4.7111]) tensor([-23.5055]) tensor(42.9356)\n",
      "tensor([4.7324]) tensor([-23.8976]) tensor(42.2794)\n",
      "tensor([4.7530]) tensor([-24.2789]) tensor(41.6576)\n",
      "tensor([4.7731]) tensor([-24.6495]) tensor(41.0687)\n",
      "tensor([4.7926]) tensor([-25.0099]) tensor(40.5106)\n",
      "tensor([4.8116]) tensor([-25.3602]) tensor(39.9818)\n",
      "tensor([4.8300]) tensor([-25.7009]) tensor(39.4808)\n",
      "tensor([4.8480]) tensor([-26.0321]) tensor(39.0060)\n",
      "tensor([4.8654]) tensor([-26.3541]) tensor(38.5560)\n",
      "tensor([4.8824]) tensor([-26.6672]) tensor(38.1296)\n",
      "tensor([4.8988]) tensor([-26.9716]) tensor(37.7254)\n",
      "tensor([4.9149]) tensor([-27.2675]) tensor(37.3422)\n",
      "tensor([4.9305]) tensor([-27.5552]) tensor(36.9790)\n",
      "tensor([4.9456]) tensor([-27.8350]) tensor(36.6347)\n",
      "tensor([4.9603]) tensor([-28.1070]) tensor(36.3082)\n",
      "tensor([4.9747]) tensor([-28.3713]) tensor(35.9988)\n",
      "tensor([4.9886]) tensor([-28.6285]) tensor(35.7052)\n",
      "tensor([5.0021]) tensor([-28.8785]) tensor(35.4268)\n",
      "tensor([5.0153]) tensor([-29.1214]) tensor(35.1629)\n",
      "tensor([5.0281]) tensor([-29.3578]) tensor(34.9125)\n",
      "tensor([5.0405]) tensor([-29.5875]) tensor(34.6750)\n",
      "tensor([5.0526]) tensor([-29.8108]) tensor(34.4498)\n",
      "tensor([5.0644]) tensor([-30.0280]) tensor(34.2360)\n",
      "tensor([5.0758]) tensor([-30.2392]) tensor(34.0332)\n",
      "tensor([5.0869]) tensor([-30.4444]) tensor(33.8408)\n",
      "tensor([5.0977]) tensor([-30.6440]) tensor(33.6582)\n",
      "tensor([5.1083]) tensor([-30.8381]) tensor(33.4848)\n",
      "tensor([5.1185]) tensor([-31.0267]) tensor(33.3203)\n",
      "tensor([5.1284]) tensor([-31.2102]) tensor(33.1642)\n",
      "tensor([5.1381]) tensor([-31.3884]) tensor(33.0160)\n",
      "tensor([5.1475]) tensor([-31.5618]) tensor(32.8752)\n",
      "tensor([5.1566]) tensor([-31.7305]) tensor(32.7415)\n",
      "tensor([5.1655]) tensor([-31.8944]) tensor(32.6146)\n",
      "tensor([5.1741]) tensor([-32.0539]) tensor(32.4939)\n",
      "tensor([5.1825]) tensor([-32.2089]) tensor(32.3794)\n",
      "tensor([5.1907]) tensor([-32.3594]) tensor(32.2708)\n",
      "tensor([5.1986]) tensor([-32.5053]) tensor(32.1678)\n",
      "tensor([5.2063]) tensor([-32.6479]) tensor(32.0694)\n",
      "tensor([5.2138]) tensor([-32.7862]) tensor(31.9762)\n",
      "tensor([5.2211]) tensor([-32.9211]) tensor(31.8873)\n",
      "tensor([5.2282]) tensor([-33.0521]) tensor(31.8030)\n",
      "tensor([5.2351]) tensor([-33.1794]) tensor(31.7227)\n",
      "tensor([5.2418]) tensor([-33.3034]) tensor(31.6464)\n",
      "tensor([5.2483]) tensor([-33.4237]) tensor(31.5739)\n",
      "tensor([5.2546]) tensor([-33.5403]) tensor(31.5052)\n",
      "tensor([5.2608]) tensor([-33.6541]) tensor(31.4396)\n",
      "tensor([5.2667]) tensor([-33.7643]) tensor(31.3774)\n",
      "tensor([5.2726]) tensor([-33.8716]) tensor(31.3182)\n",
      "tensor([5.2782]) tensor([-33.9760]) tensor(31.2618)\n",
      "tensor([5.2837]) tensor([-34.0770]) tensor(31.2084)\n",
      "tensor([5.2891]) tensor([-34.1762]) tensor(31.1570)\n",
      "tensor([5.2943]) tensor([-34.2724]) tensor(31.1082)\n",
      "tensor([5.2993]) tensor([-34.3661]) tensor(31.0617)\n",
      "tensor([5.3043]) tensor([-34.4572]) tensor(31.0174)\n",
      "tensor([5.3091]) tensor([-34.5454]) tensor(30.9754)\n",
      "tensor([5.3137]) tensor([-34.6313]) tensor(30.9353)\n",
      "tensor([5.3182]) tensor([-34.7149]) tensor(30.8971)\n",
      "tensor([5.3226]) tensor([-34.7957]) tensor(30.8609)\n",
      "tensor([5.3269]) tensor([-34.8748]) tensor(30.8262)\n",
      "tensor([5.3310]) tensor([-34.9512]) tensor(30.7933)\n",
      "tensor([5.3350]) tensor([-35.0254]) tensor(30.7619)\n",
      "tensor([5.3389]) tensor([-35.0973]) tensor(30.7322)\n",
      "tensor([5.3428]) tensor([-35.1681]) tensor(30.7034)\n",
      "tensor([5.3465]) tensor([-35.2367]) tensor(30.6761)\n",
      "tensor([5.3501]) tensor([-35.3034]) tensor(30.6500)\n"
     ]
    }
   ],
   "source": [
    "for epoch in range(10000):\n",
    "    for x, y in zip(X, Y):\n",
    "        y_pred = torch.matmul(x, w) + b\n",
    "        \n",
    "        # 손실함수\n",
    "        loss = (y - y_pred).pow(2).sum()\n",
    "        \n",
    "        # PyTorch에서 같은 변수에 대해 여러 번 미분하면 미분 결과가 누적되므로, 매 반복마다 미분 값을 0으로 초기화해야 합니다.\n",
    "        if w.grad is not None:\n",
    "            # w의 미분 값을 재설정합니다.\n",
    "            w.grad.data.zero_()\n",
    "            \n",
    "        if b.grad is not None:\n",
    "            b.grad.data.zero_()\n",
    "            \n",
    "        # 역전파(backward propagation)\n",
    "        loss.backward()\n",
    "        \n",
    "        # w와 b를 업데이트합니다\n",
    "        # 업데이트할 때에는 미분을 계산할 필요가 없습니다.\n",
    "        with torch.no_grad():\n",
    "            w.data -= w.grad.data * learning_rate\n",
    "            b.data -= b.grad.data * learning_rate\n",
    "    if epoch % 100 == 0:\n",
    "        y_ = torch.matmul(X, w) + b\n",
    "        l = (Y - y_).pow(2).mean()\n",
    "        print(w.data, b.data, l.data)"
   ]
  },
  {
   "cell_type": "code",
   "execution_count": 23,
   "id": "2a26030f",
   "metadata": {
    "ExecuteTime": {
     "end_time": "2022-11-21T13:00:46.798647Z",
     "start_time": "2022-11-21T13:00:43.539364Z"
    }
   },
   "outputs": [],
   "source": [
    "from sklearn.linear_model import LinearRegression"
   ]
  },
  {
   "cell_type": "code",
   "execution_count": 24,
   "id": "1f21d238",
   "metadata": {
    "ExecuteTime": {
     "end_time": "2022-11-21T13:01:02.696109Z",
     "start_time": "2022-11-21T13:01:02.674168Z"
    },
    "collapsed": true
   },
   "outputs": [
    {
     "data": {
      "text/plain": [
       "array([[10.      ],\n",
       "       [10.401338],\n",
       "       [10.84281 ],\n",
       "       [11.244147],\n",
       "       [11.645485],\n",
       "       [12.086957],\n",
       "       [12.488295],\n",
       "       [12.889632],\n",
       "       [13.29097 ],\n",
       "       [13.732442],\n",
       "       [14.13378 ],\n",
       "       [14.535117],\n",
       "       [14.976588],\n",
       "       [15.377927],\n",
       "       [15.779264],\n",
       "       [16.220736],\n",
       "       [16.622074],\n",
       "       [17.02341 ],\n",
       "       [17.464884],\n",
       "       [17.86622 ],\n",
       "       [18.26756 ],\n",
       "       [18.70903 ],\n",
       "       [19.110369],\n",
       "       [19.511705],\n",
       "       [19.913044],\n",
       "       [20.354515],\n",
       "       [20.755854],\n",
       "       [21.15719 ],\n",
       "       [21.598661],\n",
       "       [22.      ]], dtype=float32)"
      ]
     },
     "execution_count": 24,
     "metadata": {},
     "output_type": "execute_result"
    }
   ],
   "source": [
    "# 텐서는 .numpy()를 사용하여 ndarray 형식으로 얻을 수 있습니다.\n",
    "X.numpy()"
   ]
  },
  {
   "cell_type": "code",
   "execution_count": 25,
   "id": "8533841f",
   "metadata": {},
   "outputs": [
    {
     "data": {
      "text/plain": [
       "array([26.658838, 27.306435, 22.13241 , 21.16984 , 15.192634, 26.39895 ,\n",
       "       17.435307, 25.507885, 36.884594, 39.666107, 34.396282, 41.497993,\n",
       "       44.981575, 47.039597, 48.25258 , 57.034252, 51.49092 , 61.33662 ,\n",
       "       57.58199 , 68.55371 , 64.31093 , 68.95901 , 74.61464 , 71.867195,\n",
       "       76.09814 , 75.775215, 72.48605 , 77.35502 , 72.11879 , 80.26057 ],\n",
       "      dtype=float32)"
      ]
     },
     "execution_count": 25,
     "metadata": {},
     "output_type": "execute_result"
    }
   ],
   "source": [
    "Y.numpy()"
   ]
  },
  {
   "cell_type": "code",
   "execution_count": 44,
   "id": "8bb8e44a",
   "metadata": {
    "ExecuteTime": {
     "end_time": "2022-11-21T13:01:34.792233Z",
     "start_time": "2022-11-21T13:01:34.754335Z"
    }
   },
   "outputs": [
    {
     "data": {
      "text/plain": [
       "LinearRegression(copy_X=True, fit_intercept=True, n_jobs=None, normalize=False)"
      ]
     },
     "execution_count": 44,
     "metadata": {},
     "output_type": "execute_result"
    }
   ],
   "source": [
    "linear = LinearRegression()\n",
    "linear.fit(X.numpy(), Y.numpy())"
   ]
  },
  {
   "cell_type": "code",
   "execution_count": 45,
   "id": "f4188b94",
   "metadata": {
    "ExecuteTime": {
     "end_time": "2022-11-21T13:01:42.226344Z",
     "start_time": "2022-11-21T13:01:42.209388Z"
    }
   },
   "outputs": [
    {
     "data": {
      "text/plain": [
       "array([5.599482], dtype=float32)"
      ]
     },
     "execution_count": 45,
     "metadata": {},
     "output_type": "execute_result"
    }
   ],
   "source": [
    "linear.coef_\n"
   ]
  },
  {
   "cell_type": "code",
   "execution_count": 46,
   "id": "3f0bb2ed",
   "metadata": {
    "ExecuteTime": {
     "end_time": "2022-11-21T13:01:47.808408Z",
     "start_time": "2022-11-21T13:01:47.801426Z"
    }
   },
   "outputs": [
    {
     "data": {
      "text/plain": [
       "tensor([5.1266])"
      ]
     },
     "execution_count": 46,
     "metadata": {},
     "output_type": "execute_result"
    }
   ],
   "source": [
    "w.data"
   ]
  },
  {
   "cell_type": "code",
   "execution_count": 47,
   "id": "d54b4939",
   "metadata": {
    "ExecuteTime": {
     "end_time": "2022-11-21T13:01:56.250819Z",
     "start_time": "2022-11-21T13:01:56.234863Z"
    },
    "scrolled": true
   },
   "outputs": [
    {
     "data": {
      "text/plain": [
       "-39.44625"
      ]
     },
     "execution_count": 47,
     "metadata": {},
     "output_type": "execute_result"
    }
   ],
   "source": [
    "linear.intercept_"
   ]
  },
  {
   "cell_type": "code",
   "execution_count": 48,
   "id": "108ad442",
   "metadata": {
    "ExecuteTime": {
     "end_time": "2022-11-21T13:02:02.270713Z",
     "start_time": "2022-11-21T13:02:02.257747Z"
    }
   },
   "outputs": [
    {
     "data": {
      "text/plain": [
       "tensor([-32.6958])"
      ]
     },
     "execution_count": 48,
     "metadata": {},
     "output_type": "execute_result"
    }
   ],
   "source": [
    "b.data"
   ]
  },
  {
   "cell_type": "code",
   "execution_count": 55,
   "id": "48790878",
   "metadata": {
    "ExecuteTime": {
     "end_time": "2022-11-21T13:06:48.901317Z",
     "start_time": "2022-11-21T13:06:48.801582Z"
    },
    "scrolled": false
   },
   "outputs": [
    {
     "data": {
      "text/plain": [
       "[<matplotlib.lines.Line2D at 0x19c00d2e988>]"
      ]
     },
     "execution_count": 55,
     "metadata": {},
     "output_type": "execute_result"
    },
    {
     "data": {
      "image/png": "[encoded data removed]",
      "text/plain": [
       "<Figure size 432x288 with 1 Axes>"
      ]
     },
     "metadata": {
      "needs_background": "light"
     },
     "output_type": "display_data"
    }
   ],
   "source": [
    "plt.scatter(income.Education, income.Income)\n",
    "plt.plot(X.numpy(), (torch.matmul(X, w) + b).data.numpy(), c='r')"
   ]
  },
  {
   "attachments": {},
   "cell_type": "markdown",
   "id": "34cb5800",
   "metadata": {},
   "source": [
    "### 간결한 표현"
   ]
  },
  {
   "cell_type": "code",
   "execution_count": null,
   "id": "3b751fa7",
   "metadata": {},
   "outputs": [],
   "source": [
    "# 간결한 표현은 PyTorch의 API를 사용하여 작성하는 것입니다. "
   ]
  },
  {
   "cell_type": "code",
   "execution_count": 56,
   "id": "80a042e7",
   "metadata": {
    "ExecuteTime": {
     "end_time": "2022-11-21T13:24:35.300497Z",
     "start_time": "2022-11-21T13:24:35.281548Z"
    }
   },
   "outputs": [],
   "source": [
    "from torch import nn"
   ]
  },
  {
   "cell_type": "code",
   "execution_count": 57,
   "id": "bc708dc2",
   "metadata": {
    "ExecuteTime": {
     "end_time": "2022-11-21T13:26:18.626041Z",
     "start_time": "2022-11-21T13:26:18.600110Z"
    }
   },
   "outputs": [],
   "source": [
    "# PyTorch에서의 완전 연결(FC) 또는 신경망 또는 선형 연산\n",
    "model = nn.Linear(1, 1)"
   ]
  },
  {
   "cell_type": "code",
   "execution_count": 58,
   "id": "90d95be1",
   "metadata": {
    "ExecuteTime": {
     "end_time": "2022-11-21T13:27:00.745350Z",
     "start_time": "2022-11-21T13:27:00.736371Z"
    }
   },
   "outputs": [],
   "source": [
    "# mse\n",
    "loss_fn = nn.MSELoss()"
   ]
  },
  {
   "cell_type": "code",
   "execution_count": 59,
   "id": "ef099bc7",
   "metadata": {
    "ExecuteTime": {
     "end_time": "2022-11-21T13:27:18.947649Z",
     "start_time": "2022-11-21T13:27:18.936675Z"
    }
   },
   "outputs": [
    {
     "data": {
      "text/plain": [
       "<generator object Module.parameters at 0x0000019C00E1C948>"
      ]
     },
     "execution_count": 59,
     "metadata": {},
     "output_type": "execute_result"
    }
   ],
   "source": [
    "# parameters에 업데이트해야 하는 모델의 매개변수를 배치합니다.\n",
    "model.parameters()"
   ]
  },
  {
   "cell_type": "code",
   "execution_count": 60,
   "id": "4e189fb7",
   "metadata": {
    "ExecuteTime": {
     "end_time": "2022-11-21T13:29:29.169228Z",
     "start_time": "2022-11-21T13:29:29.160252Z"
    }
   },
   "outputs": [],
   "source": [
    "# 옵티마이저(optimizer)\n",
    "optimizer = torch.optim.SGD(model.parameters(), lr=0.001)"
   ]
  },
  {
   "cell_type": "code",
   "execution_count": 61,
   "id": "8f7b3893",
   "metadata": {
    "ExecuteTime": {
     "end_time": "2022-11-21T13:32:48.361275Z",
     "start_time": "2022-11-21T13:31:45.143418Z"
    }
   },
   "outputs": [
    {
     "name": "stderr",
     "output_type": "stream",
     "text": [
      "D:\\.venv\\lib\\site-packages\\torch\\nn\\modules\\loss.py:529: UserWarning: Using a target size (torch.Size([1])) that is different to the input size (torch.Size([])). This will likely lead to incorrect results due to broadcasting. Please ensure they have the same size.\n",
      "  return F.mse_loss(input, target, reduction=self.reduction)\n"
     ]
    }
   ],
   "source": [
    "# 학습(training)\n",
    "for epoch in range(10000):\n",
    "    for x, y in zip(X, Y):\n",
    "        y_pred = model(x)\n",
    "        loss = loss_fn(y, y_pred)\n",
    "        # 그라디언트(gradient)를 0으로 초기화\n",
    "        optimizer.zero_grad()\n",
    "        loss.backward()\n",
    "        # 매개변수 업데이트\n",
    "        optimizer.step()"
   ]
  },
  {
   "cell_type": "code",
   "execution_count": 62,
   "id": "e660bfd4",
   "metadata": {
    "ExecuteTime": {
     "end_time": "2022-11-21T13:32:48.747243Z",
     "start_time": "2022-11-21T13:32:48.734276Z"
    }
   },
   "outputs": [
    {
     "data": {
      "text/plain": [
       "Parameter containing:\n",
       "tensor([[5.1309]], requires_grad=True)"
      ]
     },
     "execution_count": 62,
     "metadata": {},
     "output_type": "execute_result"
    }
   ],
   "source": [
    "model.weight"
   ]
  },
  {
   "cell_type": "code",
   "execution_count": 63,
   "id": "8737debc",
   "metadata": {
    "ExecuteTime": {
     "end_time": "2022-11-21T13:33:01.190455Z",
     "start_time": "2022-11-21T13:33:01.175496Z"
    }
   },
   "outputs": [
    {
     "data": {
      "text/plain": [
       "Parameter containing:\n",
       "tensor([-32.7909], requires_grad=True)"
      ]
     },
     "execution_count": 63,
     "metadata": {},
     "output_type": "execute_result"
    }
   ],
   "source": [
    "model.bias"
   ]
  }
 ],
 "metadata": {
  "kernelspec": {
   "display_name": "Python 3 (ipykernel)",
   "language": "python",
   "name": "python3"
  },
  "language_info": {
   "codemirror_mode": {
    "name": "ipython",
    "version": 3
   },
   "file_extension": ".py",
   "mimetype": "text/x-python",
   "name": "python",
   "nbconvert_exporter": "python",
   "pygments_lexer": "ipython3",
   "version": "3.9.13"
  },
  "toc": {
   "base_numbering": 1,
   "nav_menu": {},
   "number_sections": true,
   "sideBar": true,
   "skip_h1_title": false,
   "title_cell": "Table of Contents",
   "title_sidebar": "Contents",
   "toc_cell": false,
   "toc_position": {},
   "toc_section_display": true,
   "toc_window_display": false
  }
 },
 "nbformat": 4,
 "nbformat_minor": 5
}
