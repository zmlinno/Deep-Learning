{
 "cells": [
  {
   "cell_type": "code",
   "execution_count": null,
   "metadata": {},
   "outputs": [],
   "source": [
    "# 1. 예측 함수 찾기: 1 / (1 + e^-z)\n",
    "# 2. 손실 함수 찾기: -(y_true*log(y_pred) + (1-y_true)log(1 - y_pred))\n",
    "# 3. 경사 하강법을 사용하여 손실을 최소화하는 계수 찾기"
   ]
  },
  {
   "cell_type": "code",
   "execution_count": 1,
   "metadata": {
    "ExecuteTime": {
     "end_time": "2022-01-24T12:54:44.513847Z",
     "start_time": "2022-01-24T12:54:42.049439Z"
    },
    "scrolled": true
   },
   "outputs": [],
   "source": [
    "import tensorflow as tf\n",
    "from sklearn.datasets import make_blobs\n",
    "import numpy as np\n",
    "import matplotlib.pyplot as plt"
   ]
  },
  {
   "cell_type": "code",
   "execution_count": 2,
   "metadata": {
    "ExecuteTime": {
     "end_time": "2022-01-24T12:56:04.012742Z",
     "start_time": "2022-01-24T12:56:03.833222Z"
    },
    "scrolled": true
   },
   "outputs": [
    {
     "data": {
      "text/plain": [
       "<matplotlib.collections.PathCollection at 0x1ab2e24fd30>"
      ]
     },
     "execution_count": 2,
     "metadata": {},
     "output_type": "execute_result"
    },
    {
     "data": {
      "image/png": "[encoded data removed]",
      "text/plain": [
       "<Figure size 432x288 with 1 Axes>"
      ]
     },
     "metadata": {
      "needs_background": "light"
     },
     "output_type": "display_data"
    }
   ],
   "source": [
    "data, target = make_blobs(centers=2)\n",
    "plt.scatter(data[:, 0], data[:, 1], c=target)"
   ]
  },
  {
   "cell_type": "code",
   "execution_count": 12,
   "metadata": {
    "ExecuteTime": {
     "end_time": "2022-01-24T12:35:24.278554Z",
     "start_time": "2022-01-24T12:35:24.273568Z"
    }
   },
   "outputs": [
    {
     "data": {
      "text/plain": [
       "(100, 2)"
      ]
     },
     "execution_count": 12,
     "metadata": {},
     "output_type": "execute_result"
    }
   ],
   "source": [
    "x.shape"
   ]
  },
  {
   "cell_type": "code",
   "execution_count": 13,
   "metadata": {
    "ExecuteTime": {
     "end_time": "2022-01-24T12:35:28.734636Z",
     "start_time": "2022-01-24T12:35:28.721671Z"
    }
   },
   "outputs": [
    {
     "data": {
      "text/plain": [
       "(100,)"
      ]
     },
     "execution_count": 13,
     "metadata": {},
     "output_type": "execute_result"
    }
   ],
   "source": [
    "y.shape"
   ]
  },
  {
   "cell_type": "code",
   "execution_count": 3,
   "metadata": {
    "ExecuteTime": {
     "end_time": "2022-01-24T12:56:13.833476Z",
     "start_time": "2022-01-24T12:56:13.289929Z"
    }
   },
   "outputs": [],
   "source": [
    "x = tf.constant(data, dtype=tf.float32)\n",
    "y = tf.constant(target, dtype=tf.float32)"
   ]
  },
  {
   "cell_type": "code",
   "execution_count": 4,
   "metadata": {
    "ExecuteTime": {
     "end_time": "2022-01-24T12:56:15.369367Z",
     "start_time": "2022-01-24T12:56:15.152945Z"
    }
   },
   "outputs": [],
   "source": [
    "# 예측 함수를 정의하다\n",
    "W = tf.Variable(np.random.randn(2, 1) * 0.02, dtype=tf.float32)\n",
    "B = tf.Variable(0., dtype=tf.float32)\n"
   ]
  },
  {
   "cell_type": "code",
   "execution_count": 23,
   "metadata": {
    "ExecuteTime": {
     "end_time": "2022-01-24T12:45:53.440280Z",
     "start_time": "2022-01-24T12:45:53.432301Z"
    }
   },
   "outputs": [
    {
     "data": {
      "text/plain": [
       "(100, 1)"
      ]
     },
     "execution_count": 23,
     "metadata": {},
     "output_type": "execute_result"
    }
   ],
   "source": [
    "np.dot(x, np.random.randn(2, 1)).shape"
   ]
  },
  {
   "cell_type": "code",
   "execution_count": 5,
   "metadata": {
    "ExecuteTime": {
     "end_time": "2022-01-24T12:56:18.481044Z",
     "start_time": "2022-01-24T12:56:18.464089Z"
    }
   },
   "outputs": [],
   "source": [
    "def sigmoid(x):\n",
    "    linear = tf.matmul(x, W) + B\n",
    "    return tf.nn.sigmoid(linear)"
   ]
  },
  {
   "cell_type": "code",
   "execution_count": 26,
   "metadata": {
    "ExecuteTime": {
     "end_time": "2022-01-24T12:46:54.204757Z",
     "start_time": "2022-01-24T12:46:54.200767Z"
    }
   },
   "outputs": [],
   "source": [
    "a = tf.constant([[1, 2, 3], [4, 5, 6]])"
   ]
  },
  {
   "cell_type": "code",
   "execution_count": null,
   "metadata": {},
   "outputs": [],
   "source": [
    "a.reshape()"
   ]
  },
  {
   "cell_type": "code",
   "execution_count": 27,
   "metadata": {
    "ExecuteTime": {
     "end_time": "2022-01-24T12:47:18.515735Z",
     "start_time": "2022-01-24T12:47:18.504762Z"
    },
    "scrolled": false
   },
   "outputs": [
    {
     "data": {
      "text/plain": [
       "<tf.Tensor: shape=(3, 2), dtype=int32, numpy=\n",
       "array([[1, 2],\n",
       "       [3, 4],\n",
       "       [5, 6]])>"
      ]
     },
     "execution_count": 27,
     "metadata": {},
     "output_type": "execute_result"
    }
   ],
   "source": [
    "tf.reshape(a, [3, 2])"
   ]
  },
  {
   "cell_type": "code",
   "execution_count": 28,
   "metadata": {
    "ExecuteTime": {
     "end_time": "2022-01-24T12:47:30.391969Z",
     "start_time": "2022-01-24T12:47:30.384988Z"
    }
   },
   "outputs": [
    {
     "data": {
      "text/plain": [
       "<tf.Tensor: shape=(6,), dtype=int32, numpy=array([1, 2, 3, 4, 5, 6])>"
      ]
     },
     "execution_count": 28,
     "metadata": {},
     "output_type": "execute_result"
    }
   ],
   "source": [
    "tf.reshape(a, [6])"
   ]
  },
  {
   "cell_type": "code",
   "execution_count": 6,
   "metadata": {
    "ExecuteTime": {
     "end_time": "2022-01-24T12:56:25.301802Z",
     "start_time": "2022-01-24T12:56:25.290832Z"
    }
   },
   "outputs": [],
   "source": [
    "# 손실을 정의하다\n",
    "def cross_entropy_loss(y_true, y_pred):\n",
    "    # y_pred를 잘라내다\n",
    "    y_pred = tf.reshape(y_pred, shape=[100])\n",
    "#     y_pred = tf.clip_by_value(y_pred, 1e-9, 1)\n",
    "    return tf.reduce_mean(-(tf.multiply(y_true, tf.math.log(y_pred)) + tf.multiply((1 - y_true), tf.math.log(1 - y_pred)))) "
   ]
  },
  {
   "cell_type": "code",
   "execution_count": 7,
   "metadata": {
    "ExecuteTime": {
     "end_time": "2022-01-24T12:56:28.040476Z",
     "start_time": "2022-01-24T12:56:28.024519Z"
    }
   },
   "outputs": [],
   "source": [
    "# 옵티마이저 정의하기\n",
    "optimizer = tf.optimizers.SGD()"
   ]
  },
  {
   "cell_type": "code",
   "execution_count": 8,
   "metadata": {
    "ExecuteTime": {
     "end_time": "2022-01-24T12:56:43.204916Z",
     "start_time": "2022-01-24T12:56:43.199930Z"
    }
   },
   "outputs": [],
   "source": [
    "def run_optimization():\n",
    "    with tf.GradientTape() as g:\n",
    "        # 예측값 계산\n",
    "        pred = sigmoid(x)\n",
    "        loss = cross_entropy_loss(y, pred)\n",
    "        \n",
    "    # 기울기 계산\n",
    "    gradients = g.gradient(loss, [W, B])\n",
    "    # W, B 업데이트\n",
    "    optimizer.apply_gradients(zip(gradients, [W, B]))"
   ]
  },
  {
   "cell_type": "code",
   "execution_count": 15,
   "metadata": {
    "ExecuteTime": {
     "end_time": "2022-01-24T12:38:18.191401Z",
     "start_time": "2022-01-24T12:38:18.186413Z"
    }
   },
   "outputs": [
    {
     "data": {
      "text/plain": [
       "array([1, 1, 0, 0, 1, 0, 1, 1, 0, 0, 1, 0, 0, 1, 0, 1, 1, 0, 0, 1, 1, 1,\n",
       "       1, 0, 0, 1, 0, 1, 0, 1, 1, 1, 1, 0, 0, 1, 0, 0, 0, 1, 0, 0, 1, 1,\n",
       "       1, 0, 0, 1, 1, 0, 1, 1, 1, 1, 0, 0, 0, 0, 1, 0, 0, 1, 1, 0, 0, 0,\n",
       "       1, 1, 0, 1, 0, 1, 1, 0, 0, 1, 0, 0, 0, 1, 0, 1, 1, 0, 1, 0, 1, 0,\n",
       "       1, 0, 1, 1, 0, 0, 1, 0, 0, 0, 1, 1])"
      ]
     },
     "execution_count": 15,
     "metadata": {},
     "output_type": "execute_result"
    }
   ],
   "source": [
    "target"
   ]
  },
  {
   "cell_type": "code",
   "execution_count": 15,
   "metadata": {
    "ExecuteTime": {
     "end_time": "2022-01-24T12:58:58.224311Z",
     "start_time": "2022-01-24T12:58:58.209351Z"
    }
   },
   "outputs": [],
   "source": [
    "# 정확도 계산\n",
    "def accuracy(y_true, y_pred):\n",
    " # 확률을 클래스로 변환해야 합니다.\n",
    " # 확률이 0.5보다 크면 양성으로 간주합니다\n",
    "    y_pred = tf.reshape(y_pred, shape=[100])\n",
    "    y_ = y_pred.numpy() > 0.5\n",
    "    y_true = y_true.numpy()\n",
    "    return (y_ == y_true).mean()"
   ]
  },
  {
   "cell_type": "code",
   "execution_count": 16,
   "metadata": {
    "ExecuteTime": {
     "end_time": "2022-01-24T12:59:14.393079Z",
     "start_time": "2022-01-24T12:58:59.736267Z"
    },
    "collapsed": true
   },
   "outputs": [
    {
     "name": "stdout",
     "output_type": "stream",
     "text": [
      "训练次数: 0, 准确率: 0.78, 损失: 0.6216390132904053\n",
      "训练次数: 100, 准确率: 0.99, 损失: 0.22109101712703705\n",
      "训练次数: 200, 准确率: 0.99, 损失: 0.15342356264591217\n",
      "训练次数: 300, 准确率: 0.99, 损失: 0.12484405189752579\n",
      "训练次数: 400, 准确率: 0.99, 损失: 0.10863102227449417\n",
      "训练次数: 500, 准确率: 0.99, 损失: 0.09799329936504364\n",
      "训练次数: 600, 准确率: 0.99, 损失: 0.09038233757019043\n",
      "训练次数: 700, 准确率: 0.99, 损失: 0.08461571484804153\n",
      "训练次数: 800, 准确率: 0.99, 损失: 0.08006514608860016\n",
      "训练次数: 900, 准确率: 0.99, 损失: 0.07636389136314392\n",
      "训练次数: 1000, 准确率: 0.99, 损失: 0.07328209280967712\n",
      "训练次数: 1100, 准确率: 0.99, 损失: 0.07066792994737625\n",
      "训练次数: 1200, 准确率: 0.99, 损失: 0.06841666996479034\n",
      "训练次数: 1300, 准确率: 0.99, 损失: 0.06645344197750092\n",
      "训练次数: 1400, 准确率: 0.99, 损失: 0.06472320854663849\n",
      "训练次数: 1500, 准确率: 0.99, 损失: 0.06318454444408417\n",
      "训练次数: 1600, 准确率: 0.99, 损失: 0.06180550158023834\n",
      "训练次数: 1700, 准确率: 0.99, 损失: 0.0605611614882946\n",
      "训练次数: 1800, 准确率: 0.99, 损失: 0.05943163484334946\n",
      "训练次数: 1900, 准确率: 0.99, 损失: 0.05840088799595833\n",
      "训练次数: 2000, 准确率: 0.99, 损失: 0.057455841451883316\n",
      "训练次数: 2100, 准确率: 0.99, 损失: 0.05658569186925888\n",
      "训练次数: 2200, 准确率: 0.99, 损失: 0.05578143149614334\n",
      "训练次数: 2300, 准确率: 0.99, 损失: 0.055035460740327835\n",
      "训练次数: 2400, 准确率: 0.99, 损失: 0.05434141308069229\n",
      "训练次数: 2500, 准确率: 0.99, 损失: 0.053693756461143494\n",
      "训练次数: 2600, 准确率: 0.99, 损失: 0.05308780074119568\n",
      "训练次数: 2700, 准确率: 0.99, 损失: 0.05251944437623024\n",
      "训练次数: 2800, 准确率: 0.99, 损失: 0.05198516324162483\n",
      "训练次数: 2900, 准确率: 0.99, 损失: 0.051481861621141434\n",
      "训练次数: 3000, 准确率: 0.99, 损失: 0.05100679770112038\n",
      "训练次数: 3100, 准确率: 0.99, 损失: 0.050557564944028854\n",
      "训练次数: 3200, 准确率: 0.99, 损失: 0.050132036209106445\n",
      "训练次数: 3300, 准确率: 0.99, 损失: 0.04972831904888153\n",
      "训练次数: 3400, 准确率: 0.99, 损失: 0.04934470355510712\n",
      "训练次数: 3500, 准确率: 0.99, 损失: 0.048979662358760834\n",
      "训练次数: 3600, 准确率: 0.99, 损失: 0.04863186180591583\n",
      "训练次数: 3700, 准确率: 0.99, 损失: 0.04830005019903183\n",
      "训练次数: 3800, 准确率: 0.99, 损失: 0.04798309877514839\n",
      "训练次数: 3900, 准确率: 0.99, 损失: 0.04768003523349762\n",
      "训练次数: 4000, 准确率: 0.99, 损失: 0.047389909625053406\n",
      "训练次数: 4100, 准确率: 0.99, 损失: 0.047111913561820984\n",
      "训练次数: 4200, 准确率: 0.99, 损失: 0.04684522747993469\n",
      "训练次数: 4300, 准确率: 0.99, 损失: 0.0465892031788826\n",
      "训练次数: 4400, 准确率: 0.99, 损失: 0.046343185007572174\n",
      "训练次数: 4500, 准确率: 0.99, 损失: 0.04610656201839447\n",
      "训练次数: 4600, 准确率: 0.99, 损失: 0.04587880149483681\n",
      "训练次数: 4700, 准确率: 0.99, 损失: 0.045659422874450684\n",
      "训练次数: 4800, 准确率: 0.99, 损失: 0.0454479418694973\n",
      "训练次数: 4900, 准确率: 0.99, 损失: 0.04524391517043114\n"
     ]
    }
   ],
   "source": [
    "# 학습 과정 정의하기\n",
    "for i in range(5000):\n",
    "    run_optimization()\n",
    "    \n",
    "    if i % 100 == 0:\n",
    "        pred = sigmoid(x)\n",
    "        acc = accuracy(y, pred)\n",
    "        loss = cross_entropy_loss(y, pred)\n",
    "        print(f'훈련 횟수: {i}, 정확도: {acc}, 손실: {loss}')"
   ]
  },
  {
   "cell_type": "code",
   "execution_count": null,
   "metadata": {},
   "outputs": [],
   "source": [
    "tf.keras"
   ]
  }
 ],
 "metadata": {
  "kernelspec": {
   "display_name": "Python 3 (ipykernel)",
   "language": "python",
   "name": "python3"
  },
  "language_info": {
   "codemirror_mode": {
    "name": "ipython",
    "version": 3
   },
   "file_extension": ".py",
   "mimetype": "text/x-python",
   "name": "python",
   "nbconvert_exporter": "python",
   "pygments_lexer": "ipython3",
   "version": "3.9.13"
  },
  "toc": {
   "base_numbering": 1,
   "nav_menu": {},
   "number_sections": true,
   "sideBar": true,
   "skip_h1_title": false,
   "title_cell": "Table of Contents",
   "title_sidebar": "Contents",
   "toc_cell": false,
   "toc_position": {},
   "toc_section_display": true,
   "toc_window_display": false
  }
 },
 "nbformat": 4,
 "nbformat_minor": 4
}
